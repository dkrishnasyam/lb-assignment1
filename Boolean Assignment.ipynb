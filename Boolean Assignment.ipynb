{
 "cells": [
  {
   "cell_type": "markdown",
   "metadata": {},
   "source": [
    "Q. Declare a boolean value and store it in a variable.<br>\n",
    "Check the type and print the id of the same."
   ]
  },
  {
   "cell_type": "code",
   "execution_count": null,
   "metadata": {},
   "outputs": [],
   "source": []
  },
  {
   "cell_type": "markdown",
   "metadata": {},
   "source": [
    "Q. Take one boolean value between 0 - 256.<br>\n",
    "Assign it to two different variables.<br>\n",
    "Check the id of both the variables. It should come the same. Check why?"
   ]
  },
  {
   "cell_type": "code",
   "execution_count": null,
   "metadata": {},
   "outputs": [],
   "source": []
  },
  {
   "cell_type": "markdown",
   "metadata": {},
   "source": [
    "Q. Arithmetic Operations on boolean data<br>\n",
    "Take two different boolean values.<br>\n",
    "Store them in two different variables.<br>\n",
    "Do below operations on them:-<br>\n",
    "Find sum of both values<br>\n",
    "Find difference between them<br>\n",
    "Find the product of both.<br>\n",
    "Find value after dividing first value with second value<br>\n",
    "Find the remainder after dividing first value with second value<br>\n",
    "Find the quotient after dividing first value with second value<br>\n",
    "Find the result of first value to the power of second value."
   ]
  },
  {
   "cell_type": "code",
   "execution_count": null,
   "metadata": {},
   "outputs": [],
   "source": []
  },
  {
   "cell_type": "markdown",
   "metadata": {},
   "source": [
    "Q. Comparison Operators on boolean values<br>\n",
    "Take two different boolean values.<br>\n",
    "Store them in two different variables.<br>\n",
    "Do below operations on them:-<br>\n",
    "Compare these two values with below operator:-<br>\n",
    "Greater than, '>'<br>\n",
    "less than, '<'<br>\n",
    "Greater than or equal to, '>='<br>\n",
    "Less than or equal to, '<='<br>\n",
    "Observe their output(return type should be boolean)"
   ]
  },
  {
   "cell_type": "code",
   "execution_count": null,
   "metadata": {},
   "outputs": [],
   "source": []
  },
  {
   "cell_type": "markdown",
   "metadata": {},
   "source": [
    "Q. Equality Operator<br>\n",
    "Take two different boolean values.<br>\n",
    "Store them in two different variables.<br>\n",
    "Equate them using equality operators (==, !=)<br>\n",
    "Observe the output(return type should be boolean)"
   ]
  },
  {
   "cell_type": "code",
   "execution_count": null,
   "metadata": {},
   "outputs": [],
   "source": []
  },
  {
   "cell_type": "markdown",
   "metadata": {},
   "source": [
    "Q. Logical operators<br>\n",
    "Observe the output of below code<br>\n",
    "Cross check the output manually<br>\n",
    "print ( True and True )<br>\n",
    "#----------------------------------------->Output is True<br>\n",
    "print ( False and True )<br>\n",
    "#----------------------------------------->Output is False<br>\n",
    "print ( True and False )<br>\n",
    "#----------------------------------------->Output is False<br>\n",
    "print ( False and False )<br>\n",
    "#----------------------------------------->Output is False<br>\n",
    "print ( True or True )<br>\n",
    "#----------------------------------------->Output is True<br>\n",
    "print ( False or True )<br>\n",
    "#----------------------------------------->Output is True<br>\n",
    "print ( True or False )<br>\n",
    "#----------------------------------------->Output is True<br>\n",
    "print ( False or False )<br>\n",
    "#----------------------------------------->Output is False<br>\n",
    "print ( not True )<br>\n",
    "#----------------------------------------->Output is False<br>\n",
    "print ( not False )<br>\n",
    "#----------------------------------------->Output is True<br>"
   ]
  },
  {
   "cell_type": "code",
   "execution_count": null,
   "metadata": {},
   "outputs": [],
   "source": []
  },
  {
   "cell_type": "markdown",
   "metadata": {},
   "source": [
    "Q. Bitwise Operators<br>\n",
    "Do below operations on the values provided below:-<br>\n",
    "Bitwise and(&) --------------> True, True -------> Output is True<br>\n",
    "Bitwise or(|) --------------> True, False -------> Output is True<br>\n",
    "Bitwise(^) --------------> True, False -------> Output is True<br>\n",
    "Bitwise negation(~) ---------> True -------> Output is -2<br>\n",
    "Bitwise left shift ---------> True,2 -------> Output is 4<br>\n",
    "Bitwise right shift ---------> True,2 -------> Output is 0<br>\n",
    "Cross check the output manually"
   ]
  },
  {
   "cell_type": "code",
   "execution_count": null,
   "metadata": {},
   "outputs": [],
   "source": []
  },
  {
   "cell_type": "markdown",
   "metadata": {},
   "source": [
    "Q. What is the output of expression inside the print statement. Cross\n",
    "check before running the program.<br>\n",
    "a = True<br>\n",
    "b = True<br>\n",
    "print (a is b) #True or False? #<br>\n",
    "print (a is not b) #True or False?<br>\n",
    "a = False<br>\n",
    "b = False<br>\n",
    "print (a is b) #True or False?<br>\n",
    "print (a is not b) #True or False?"
   ]
  },
  {
   "cell_type": "code",
   "execution_count": null,
   "metadata": {},
   "outputs": [],
   "source": []
  },
  {
   "cell_type": "markdown",
   "metadata": {},
   "source": [
    "Q. Membership operation<br>\n",
    "in, not in are two membership operators and it returns boolean value<br>\n",
    "print ( True in [ 10 , 10.20 , 10 + 20j , 'Python' , True ])<br>\n",
    "print ( False in ( 10 , 10.20 , 10 + 20j , 'Python' , False ))<br>\n",
    "print ( True in { 1 , 2 , 3 , True })<br>\n",
    "print ( True in { True : 100 , False : 200 , True : 300 })<br>\n",
    "print ( False in { True : 100 , False : 200 , True : 300 })"
   ]
  },
  {
   "cell_type": "code",
   "execution_count": null,
   "metadata": {},
   "outputs": [],
   "source": []
  },
  {
   "cell_type": "code",
   "execution_count": null,
   "metadata": {},
   "outputs": [],
   "source": []
  }
 ],
 "metadata": {
  "kernelspec": {
   "display_name": "Python 3",
   "language": "python",
   "name": "python3"
  },
  "language_info": {
   "codemirror_mode": {
    "name": "ipython",
    "version": 3
   },
   "file_extension": ".py",
   "mimetype": "text/x-python",
   "name": "python",
   "nbconvert_exporter": "python",
   "pygments_lexer": "ipython3",
   "version": "3.6.7"
  }
 },
 "nbformat": 4,
 "nbformat_minor": 2
}
