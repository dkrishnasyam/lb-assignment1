{
 "cells": [
  {
   "cell_type": "markdown",
   "metadata": {},
   "source": [
    "Q. Declare an int value and store it in a variable.<br>\n",
    "Check the type and print the id of the same."
   ]
  },
  {
   "cell_type": "code",
   "execution_count": null,
   "metadata": {},
   "outputs": [],
   "source": []
  },
  {
   "cell_type": "markdown",
   "metadata": {},
   "source": [
    "Q. Take one int value between 0 - 256.<br>\n",
    "Assign it to two different variables.<br>\n",
    "Check the id of both the variables. It should come the same. Check why?"
   ]
  },
  {
   "cell_type": "code",
   "execution_count": null,
   "metadata": {},
   "outputs": [],
   "source": []
  },
  {
   "cell_type": "markdown",
   "metadata": {},
   "source": [
    "Q. Take one int value either less than -5 or greater than 256.<br>\n",
    "Assign it to two different variables.<br>\n",
    "Check the id of both the variables. It should come different.Check why?"
   ]
  },
  {
   "cell_type": "code",
   "execution_count": null,
   "metadata": {},
   "outputs": [],
   "source": []
  },
  {
   "cell_type": "markdown",
   "metadata": {},
   "source": [
    "Q. Arithmetic Operations on integers<br>\n",
    "Take two different integer values.<br>\n",
    "Store them in two different variables.<br>\n",
    "Do below operations on them:-<br>\n",
    "Find sum of both numbers<br>\n",
    "Find difference between them<br>\n",
    "Find the product of both numbers.<br>\n",
    "Find value after dividing first num with second number<br>\n",
    "Find the remainder after dividing first number with second number<br>\n",
    "Find the quotient after dividing first number with second number<br>\n",
    "Find the result of the first num to the power of the second number."
   ]
  },
  {
   "cell_type": "code",
   "execution_count": null,
   "metadata": {},
   "outputs": [],
   "source": []
  },
  {
   "cell_type": "markdown",
   "metadata": {},
   "source": [
    "Q. Comparison Operators on integers<br>\n",
    "Take two different integer values.<br>\n",
    "Store them in two different variables.<br>\n",
    "Do below operations on them:-<br>\n",
    "Compare se two numbers with below operator:-<br>\n",
    "Greater than, '>'<br>\n",
    "Smaller than, '<'<br>\n",
    "Greater than or equal to, '>='<br>\n",
    "Less than or equal to, '<='<br>\n",
    "Observe their output(return type should be boolean)"
   ]
  },
  {
   "cell_type": "code",
   "execution_count": null,
   "metadata": {},
   "outputs": [],
   "source": []
  },
  {
   "cell_type": "markdown",
   "metadata": {},
   "source": [
    "Q. Equality Operator<br>\n",
    "Take two different integer values.<br>\n",
    "Store them in two different variables.<br>\n",
    "Equate them using equality operators (==, !=)<br>\n",
    "Observe the output(return type should be boolean)"
   ]
  },
  {
   "cell_type": "code",
   "execution_count": null,
   "metadata": {},
   "outputs": [],
   "source": []
  },
  {
   "cell_type": "markdown",
   "metadata": {},
   "source": [
    "Q. Logical operators<br>\n",
    "Observe the output of below code<br>\n",
    "Cross check the output manually<br>\n",
    "print ( 10 and 20 )<br>\n",
    "#----------------------------------------->Output is 20<br>\n",
    "print ( 0 and 20 )<br>\n",
    "#----------------------------------------->Output is 0<br>\n",
    "print ( 20 and 0 )<br>\n",
    "#----------------------------------------->Output is 0<br>\n",
    "print ( 0 and 0 )<br>\n",
    "#----------------------------------------->Output is 0<br>\n",
    "print ( 10 or 20 )<br>\n",
    "#----------------------------------------->Output is 10<br>\n",
    "print ( 0 or 20 )<br>\n",
    "#----------------------------------------->Output is 20<br>\n",
    "print ( 20 or 0 )<br>\n",
    "#----------------------------------------->Output is 20<br>\n",
    "print ( 0 or 0 )<br>\n",
    "#----------------------------------------->Output is 0<br>\n",
    "print ( not 10 )<br>\n",
    "#----------------------------------------->Output is False<br>\n",
    "print ( not 0 )<br>\n",
    "#----------------------------------------->Output is True"
   ]
  },
  {
   "cell_type": "code",
   "execution_count": null,
   "metadata": {},
   "outputs": [],
   "source": []
  },
  {
   "cell_type": "markdown",
   "metadata": {},
   "source": [
    "Q. Bitwise Operators<br>\n",
    "Do below operations on the values provided below:-<br>\n",
    "Bitwise and(&) -----------------------------------------> 10, 20<br>\n",
    "-------> Output is 0<br>\n",
    "Bitwise or(|) -----------------------------------------> 10, 20<br>\n",
    "-------> Output is 30<br>\n",
    "Bitwise(^) -----------------------------------------> 10, 20<br>\n",
    "-------> Output is 30<br>\n",
    "Bitwise negation(~) ------------------------------------> 10<br>\n",
    "-------> Output is -11<br>\n",
    "Bitwise left shift ------------------------------------> 10,2<br>\n",
    "-------> Output is 40<br>\n",
    "Bitwise right shift ------------------------------------> 10,2<br>\n",
    "-------> Output is 2<br>\n",
    "Cross check the output manually"
   ]
  },
  {
   "cell_type": "code",
   "execution_count": null,
   "metadata": {},
   "outputs": [],
   "source": []
  },
  {
   "cell_type": "markdown",
   "metadata": {},
   "source": [
    "Q. What is the output of expression inside print statement. Cross check<br>\n",
    "before running the program.<br>\n",
    "a = 10<br>\n",
    "b = 10<br>\n",
    "print(a is b) #True or False?<br>\n",
    "print(a is not b) #True or False?<br>\n",
    "a = 1000<br>\n",
    "b = 1000<br>\n",
    "print(a is b) #True or False?<br>\n",
    "print(a is not b) #True or False?"
   ]
  },
  {
   "cell_type": "code",
   "execution_count": null,
   "metadata": {},
   "outputs": [],
   "source": []
  },
  {
   "cell_type": "markdown",
   "metadata": {},
   "source": [
    "Q. What is the output of expression inside print statement. Cross check<br>\n",
    "before running the program.<br>\n",
    "print ( 10 +( 10 * 32 )// 2 ** 5 & 20 +(~( -10 ))<< 2 )"
   ]
  },
  {
   "cell_type": "code",
   "execution_count": null,
   "metadata": {},
   "outputs": [],
   "source": []
  },
  {
   "cell_type": "markdown",
   "metadata": {},
   "source": [
    "Q. Membership operation<br>\n",
    "in, not in are two membership operators and it returns boolean value<br>\n",
    "print ( '2' in 'Python2.7.8' )<br>\n",
    "print ( 10 in [ 10 , 10.20 , 10 + 20j , 'Python' ])<br>\n",
    "print ( 10 in ( 10 , 10.20 , 10 + 20j , 'Python' ))<br>\n",
    "print ( 2 in { 1 , 2 , 3 })<br>\n",
    "print ( 3 in { 1 : 100 , 2 : 200 , 3 : 300 })<br>\n",
    "print ( 10 in range ( 20 ))"
   ]
  },
  {
   "cell_type": "code",
   "execution_count": null,
   "metadata": {},
   "outputs": [],
   "source": []
  },
  {
   "cell_type": "markdown",
   "metadata": {},
   "source": [
    "Q. An integer can be represented in binary, octal or hexadecimal form.<br>\n",
    "Declare one binary, one octal and one hexadecimal value and store them<br>\n",
    "in three different variables.<br>\n",
    "Convert 9876 to its binary, octal and hexadecimal equivalent and print<br>\n",
    "their corresponding value."
   ]
  },
  {
   "cell_type": "code",
   "execution_count": null,
   "metadata": {},
   "outputs": [],
   "source": []
  },
  {
   "cell_type": "markdown",
   "metadata": {},
   "source": [
    "Q. What will be the output of following:-<br>\n",
    "a = 0 b1010000<br>\n",
    "print (a)<br>\n",
    "b = 0 o7436<br>\n",
    "print (b)<br>\n",
    "c = 0x fade<br>\n",
    "print (c)<br>\n",
    "print ( bin ( 80 ))<br>\n",
    "print ( oct ( 3870 ))<br>\n",
    "print ( hex ( 64222 ))<br>\n",
    "print ( bin ( 0 b1010000))<br>\n",
    "print ( bin ( 0x fade ))<br>\n",
    "print ( oct ( 0x fade ))<br>\n",
    "print ( oct ( 0 o7436))<br>\n",
    "print ( hex ( 0 b1010000))<br>\n",
    "print ( hex ( 0x fade ))"
   ]
  },
  {
   "cell_type": "code",
   "execution_count": null,
   "metadata": {},
   "outputs": [],
   "source": []
  },
  {
   "cell_type": "code",
   "execution_count": null,
   "metadata": {},
   "outputs": [],
   "source": []
  }
 ],
 "metadata": {
  "kernelspec": {
   "display_name": "Python 3",
   "language": "python",
   "name": "python3"
  },
  "language_info": {
   "codemirror_mode": {
    "name": "ipython",
    "version": 3
   },
   "file_extension": ".py",
   "mimetype": "text/x-python",
   "name": "python",
   "nbconvert_exporter": "python",
   "pygments_lexer": "ipython3",
   "version": "3.6.7"
  }
 },
 "nbformat": 4,
 "nbformat_minor": 2
}
