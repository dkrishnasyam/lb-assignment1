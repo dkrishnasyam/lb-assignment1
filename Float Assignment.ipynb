{
 "cells": [
  {
   "cell_type": "markdown",
   "metadata": {},
   "source": [
    "Q. Declare a float value and store it in a variable.<br>\n",
    "Check the type and print the id of the same."
   ]
  },
  {
   "cell_type": "code",
   "execution_count": null,
   "metadata": {},
   "outputs": [],
   "source": []
  },
  {
   "cell_type": "markdown",
   "metadata": {},
   "source": [
    "Q. Arithmetic Operations on float<br>\n",
    "Take two different float values.<br>\n",
    "Store them in two different variables.<br>\n",
    "Do below operations on them:-<br>\n",
    "Find sum of both numbers<br>\n",
    "Find difference between them<br>\n",
    "Find the product of both numbers.<br>\n",
    "Find value after dividing first num with second number<br>\n",
    "Find the remainder after dividing first number with second number<br>\n",
    "Find the quotient after dividing first number with second number<br>\n",
    "Find the result of the first num to the power of the second number."
   ]
  },
  {
   "cell_type": "code",
   "execution_count": null,
   "metadata": {},
   "outputs": [],
   "source": []
  },
  {
   "cell_type": "markdown",
   "metadata": {},
   "source": [
    "Q. Comparison Operators on float<br>\n",
    "Take two different float values.<br>\n",
    "Store them in two different variables.<br>\n",
    "Do below operations on them:-<br>\n",
    "Compare these two numbers with below operator:-<br>\n",
    "Greater than, '>'<br>\n",
    "Smaller than, '<'<br>\n",
    "Greater than or equal to, '>='<br>\n",
    "Less than or equal to, '<='<br>\n",
    "Observe their output(return type should be boolean)"
   ]
  },
  {
   "cell_type": "code",
   "execution_count": null,
   "metadata": {},
   "outputs": [],
   "source": []
  },
  {
   "cell_type": "markdown",
   "metadata": {},
   "source": [
    "Q. Equality Operator<br>\n",
    "Take two different float values.<br>\n",
    "Store them in two different variables.<br>\n",
    "Equate them using equality operators (==, !=)<br>\n",
    "Observe the output(return type should be boolean)"
   ]
  },
  {
   "cell_type": "code",
   "execution_count": null,
   "metadata": {},
   "outputs": [],
   "source": []
  },
  {
   "cell_type": "markdown",
   "metadata": {},
   "source": [
    "Q. Logical operators<br>\n",
    "Observe the output of below code<br>\n",
    "Cross check the output manually<br>\n",
    "print ( 10.20 and 20.30 ) #both are true and second value taken<br>\n",
    "Output is 20.3<br>\n",
    "print ( 0.0 and 20.30 ) #First is false so first value<br>\n",
    "taken->Output is 0.0<br>\n",
    "print ( 20.30 and 0.0 ) #Goes to till second and second value is<br>\n",
    "false so second is taken>Output is 0.0<br>\n",
    "print ( 0.0 and 0.0 ) #First is false so first value is<br>\n",
    "taken->Output is 0.0<br>\n",
    "print ( 10.20 or 20.30 ) #First is True so first value is<br>\n",
    "taken>Output is 10.2<br>\n",
    "print ( 0.0 or 20.30 ) #Goes to till second and second is true<br>\n",
    "second value is taken->Output is 20.3<br>\n",
    "print ( 20.30 or 0.0 ) #First is True so first value is<br>\n",
    "taken->Output is 20.3<br>\n",
    "print ( 0.0 or 0.0 ) #Goes to till second and second is also<br>\n",
    "false and second value is taken>Output is 0.0<br>\n",
    "print ( not 10.20 ) #-Not of true is false->Output is False<br>\n",
    "print ( not 0.0 ) #Not of false is True>Output is True<br>"
   ]
  },
  {
   "cell_type": "code",
   "execution_count": null,
   "metadata": {},
   "outputs": [],
   "source": []
  },
  {
   "cell_type": "markdown",
   "metadata": {},
   "source": [
    "Q. What is the output of expression inside print statement. Cross check<br>\n",
    "before running the program.<br>\n",
    "a = 10.20<br>\n",
    "b - 10.20<br>\n",
    "print (a is b) #True or False? True 10.20<256<br>\n",
    "print (a is not b) #True or False? False<br>\n",
    "Why the Id of float values are different when the same value is<br>\n",
    "assigned to two different variables<br>\n",
    "ex: a = 10.5 b=10.5. but id will be same if I assign the variable<br>\n",
    "having float i.e. a=c then both a and c's Id are same"
   ]
  },
  {
   "cell_type": "code",
   "execution_count": null,
   "metadata": {},
   "outputs": [],
   "source": []
  },
  {
   "cell_type": "markdown",
   "metadata": {},
   "source": [
    "Q. Bitwise operation is not applicable between instances of float.<br>\n",
    "Why the Id of float values are different when the same value is<br>\n",
    "assigned to two different variables<br>\n",
    "ex: a = 10.5 b=10.5. but id will be same if I assign the variable<br>\n",
    "having float i.e. a=c then both a and c's Id are same<br>\n",
    "Object reusability concept is not applicable on float values."
   ]
  },
  {
   "cell_type": "code",
   "execution_count": null,
   "metadata": {},
   "outputs": [],
   "source": []
  },
  {
   "cell_type": "markdown",
   "metadata": {},
   "source": [
    "Q. Membership operation<br>\n",
    "in, not in are two membership operators and it returns boolean value<br>\n",
    "print ( '2.7' in 'Python2.7.8' ) #True<br>\n",
    "print ( 10.20 in [ 10 , 10.20 , 10 + 20j , 'Python' ]) #True<br>\n",
    "print ( 10.20 in ( 10 , 10.20 , 10 + 20j , 'Python' )) # True<br>\n",
    "print ( 20.30 in { 1 , 20.30 , 30 + 40j }) # True<br>\n",
    "print ( 2.3 in { 1 : 100 , 2.3 : 200 , 30 + 40j : 300 }) # True<br>\n",
    "print ( 10 in range ( 20 )) # True"
   ]
  },
  {
   "cell_type": "code",
   "execution_count": null,
   "metadata": {},
   "outputs": [],
   "source": []
  },
  {
   "cell_type": "code",
   "execution_count": null,
   "metadata": {},
   "outputs": [],
   "source": []
  }
 ],
 "metadata": {
  "kernelspec": {
   "display_name": "Python 3",
   "language": "python",
   "name": "python3"
  },
  "language_info": {
   "codemirror_mode": {
    "name": "ipython",
    "version": 3
   },
   "file_extension": ".py",
   "mimetype": "text/x-python",
   "name": "python",
   "nbconvert_exporter": "python",
   "pygments_lexer": "ipython3",
   "version": "3.6.7"
  }
 },
 "nbformat": 4,
 "nbformat_minor": 2
}
