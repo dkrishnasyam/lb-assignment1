{
 "cells": [
  {
   "cell_type": "markdown",
   "metadata": {},
   "source": [
    "Q. Declare a complex number and store it in a variable.<br>\n",
    "Check the type and print the id of the same."
   ]
  },
  {
   "cell_type": "code",
   "execution_count": null,
   "metadata": {},
   "outputs": [],
   "source": []
  },
  {
   "cell_type": "markdown",
   "metadata": {},
   "source": [
    "Q. Arithmetic Operations on complex number<br>\n",
    "Take two different complex numbers.<br>\n",
    "Store them in two different variables.<br>\n",
    "Do below operations on them:-<br>\n",
    "Find sum of both numbers<br>\n",
    "Find difference between them<br>\n",
    "Find the product of both numbers.<br>\n",
    "Find value after dividing first num with second number<br>\n",
    "Find the result of the first num to the power of the second number."
   ]
  },
  {
   "cell_type": "code",
   "execution_count": null,
   "metadata": {},
   "outputs": [],
   "source": []
  },
  {
   "cell_type": "markdown",
   "metadata": {},
   "source": [
    "Q. Comparison Operation not applicable between instance of complex\n",
    "values.<br>\n",
    "Object reusability concept is not applicable on complex number"
   ]
  },
  {
   "cell_type": "code",
   "execution_count": null,
   "metadata": {},
   "outputs": [],
   "source": []
  },
  {
   "cell_type": "markdown",
   "metadata": {},
   "source": [
    "Q. Equality Operator<br>\n",
    "Take two different complex numbers.<br>\n",
    "Store them in two different variables.<br>\n",
    "Equate them using equality operators (==, !=)<br>\n",
    "Observe the output(return type should be boolean)"
   ]
  },
  {
   "cell_type": "code",
   "execution_count": null,
   "metadata": {},
   "outputs": [],
   "source": []
  },
  {
   "cell_type": "markdown",
   "metadata": {},
   "source": [
    "Q. Logical operators<br>\n",
    "Observe the output of below code<br>\n",
    "Cross check the output manually<br>\n",
    "print ( 10 + 20j and 20 + 30j ) #20+30j<br>\n",
    "#----------------------------------------->Output is 20+30j<br>\n",
    "print ( 0 + 0j and 20 + 30j ) #0+0j<br>\n",
    "#----------------------------------------->Output is 0j<br>\n",
    "print ( 20 + 30j and 0 + 0j ) #0+0j<br>\n",
    "#----------------------------------------->Output is 0j<br>\n",
    "print ( 0 + 0j and 0 + 0j ) #0+0j<br>\n",
    "#----------------------------------------->Output is 0j<br>\n",
    "print ( 10 + 20j or 20 + 30j ) #10+20j<br>\n",
    "#----------------------------------------->Output is 10+20j<br>\n",
    "print ( 0 + 0j or 20 + 30j ) #20+30j<br>\n",
    "#----------------------------------------->Output is 20+30j<br>\n",
    "print ( 20 + 30j or 0 + 0j ) #20+30j<br>\n",
    "#----------------------------------------->Output is 20+30j<br>\n",
    "print ( 0 + 0j or 0 + 0j ) #0+0j<br>\n",
    "#----------------------------------------->Output is 0j<br>\n",
    "print ( not 10 + 20j ) #False<br>\n",
    "#----------------------------------------->Output is False<br>\n",
    "print ( not 0 + 0j ) #True<br>\n",
    "#----------------------------------------->Output is True<br>"
   ]
  },
  {
   "cell_type": "code",
   "execution_count": null,
   "metadata": {},
   "outputs": [],
   "source": []
  },
  {
   "cell_type": "markdown",
   "metadata": {},
   "source": [
    "Q. What is the output of the expression inside the print statement.<br>\n",
    "Cross check before running the program.<br>\n",
    "a = 10 + 20j<br>\n",
    "b = 10 + 20j<br>\n",
    "print (a is b) #False #True or False?<br>\n",
    "print (a is not b) #True #True or False?"
   ]
  },
  {
   "cell_type": "code",
   "execution_count": null,
   "metadata": {},
   "outputs": [],
   "source": []
  },
  {
   "cell_type": "markdown",
   "metadata": {},
   "source": [
    "Q. Membership operation<br>\n",
    "in, not in are two membership operators and it returns boolean value<br>\n",
    "print ( '2.7' in 'Python2.7.8' ) #True<br>\n",
    "print ( 10 + 20j in [ 10 , 10.20 , 10 + 20j , 'Python' ]) #True<br>\n",
    "print ( 10 + 20j in ( 10 , 10.20 , 10 + 20j , 'Python' )) #True<br>\n",
    "print ( 30 + 40j in { 1 , 20.30 , 30 + 40j }) #True<br>\n",
    "print ( 30 + 40j in { 1 : 100 , 2.3 : 200 , 30 + 40j : 300 }) #True<br>\n",
    "print ( 10 in range ( 20 )) #True"
   ]
  },
  {
   "cell_type": "code",
   "execution_count": null,
   "metadata": {},
   "outputs": [],
   "source": []
  },
  {
   "cell_type": "code",
   "execution_count": null,
   "metadata": {},
   "outputs": [],
   "source": []
  }
 ],
 "metadata": {
  "kernelspec": {
   "display_name": "Python 3",
   "language": "python",
   "name": "python3"
  },
  "language_info": {
   "codemirror_mode": {
    "name": "ipython",
    "version": 3
   },
   "file_extension": ".py",
   "mimetype": "text/x-python",
   "name": "python",
   "nbconvert_exporter": "python",
   "pygments_lexer": "ipython3",
   "version": "3.6.7"
  }
 },
 "nbformat": 4,
 "nbformat_minor": 2
}
